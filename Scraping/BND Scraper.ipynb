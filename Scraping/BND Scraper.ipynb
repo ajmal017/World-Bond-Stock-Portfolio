{
 "cells": [
  {
   "cell_type": "code",
   "execution_count": 1,
   "metadata": {},
   "outputs": [],
   "source": [
    "# US Bonds - BND, Bloomberg Barclays U.S. Aggregate Float Adjusted Index:\n",
    "#            Using FTSE US Broad Investment-Grade Bond Index (USBIG®) instead"
   ]
  },
  {
   "cell_type": "code",
   "execution_count": 2,
   "metadata": {},
   "outputs": [],
   "source": [
    "import numpy as np\n",
    "import pandas as pd\n",
    "from PyPDF2 import PdfFileReader\n",
    "import re\n",
    "import datetime\n",
    "import requests\n",
    "import os"
   ]
  },
  {
   "cell_type": "code",
   "execution_count": 3,
   "metadata": {},
   "outputs": [],
   "source": [
    "bndURL = \"https://research.ftserussell.com/Analytics/FactSheets/Home/DownloadSingleIssueByDate?IssueName=USBIG&IssueDate=20191031&IsManual=true\""
   ]
  },
  {
   "cell_type": "code",
   "execution_count": 4,
   "metadata": {},
   "outputs": [
    {
     "name": "stdout",
     "output_type": "stream",
     "text": [
      "CPU times: user 4 µs, sys: 1 µs, total: 5 µs\n",
      "Wall time: 9.06 µs\n"
     ]
    }
   ],
   "source": [
    "%%time\n",
    "year = ''\n",
    "month = ''\n",
    "day = ''"
   ]
  },
  {
   "cell_type": "code",
   "execution_count": 5,
   "metadata": {},
   "outputs": [
    {
     "data": {
      "text/plain": [
       "2020"
      ]
     },
     "execution_count": 5,
     "metadata": {},
     "output_type": "execute_result"
    }
   ],
   "source": [
    "cur_year = datetime.datetime.now().year\n",
    "cur_year"
   ]
  },
  {
   "cell_type": "code",
   "execution_count": 6,
   "metadata": {},
   "outputs": [],
   "source": [
    "error_url = 'https://www.ftserussell.com/products/indices/home/errorview?aspxerrorpath=/Analytics/FactSheets/Home/DownloadSingleIssueByDate'\n",
    "error_url2 = 'https://research.ftserussell.com/Analytics/FactSheets/Home/ErrorPage?ErrorMessage=There%20has%20been%20a%20problem%20downloading%20this%20file'"
   ]
  },
  {
   "cell_type": "code",
   "execution_count": 7,
   "metadata": {},
   "outputs": [],
   "source": [
    "quarterly_links = []"
   ]
  },
  {
   "cell_type": "code",
   "execution_count": 8,
   "metadata": {
    "scrolled": true
   },
   "outputs": [
    {
     "name": "stdout",
     "output_type": "stream",
     "text": [
      "20180328 Failed\n",
      "20180329 Failed\n",
      "20180330 Failed\n",
      "20180331 Failed\n",
      "20180628 Failed\n",
      "20180629 Failed\n",
      "20180630 Failed\n",
      "20180631 Failed\n",
      "20180928 Failed\n",
      "20180929 Failed\n",
      "20180930 Failed\n",
      "20180931 Failed\n",
      "20181228 Failed\n",
      "20181229 Failed\n",
      "20181230 Failed\n",
      "20181231 Failed\n",
      "20190328 Failed\n",
      "20190329 Failed\n",
      "20190330 Failed\n",
      "20190331 Failed\n",
      "20190628 Failed\n",
      "20190629 Failed\n",
      "https://research.ftserussell.com/Analytics/FactSheets/Home/DownloadSingleIssueByDate?IssueName=USBIG&IssueDate=20190630&IsManual=true\n",
      "20190928 Failed\n",
      "20190929 Failed\n",
      "https://research.ftserussell.com/Analytics/FactSheets/Home/DownloadSingleIssueByDate?IssueName=USBIG&IssueDate=20190930&IsManual=true\n",
      "20191228 Failed\n",
      "20191229 Failed\n",
      "20191230 Failed\n",
      "https://research.ftserussell.com/Analytics/FactSheets/Home/DownloadSingleIssueByDate?IssueName=USBIG&IssueDate=20191231&IsManual=true\n",
      "20200328 Failed\n",
      "20200329 Failed\n",
      "20200330 Failed\n",
      "20200331 Failed\n",
      "20200628 Failed\n",
      "20200629 Failed\n",
      "20200630 Failed\n",
      "20200631 Failed\n",
      "20200928 Failed\n",
      "20200929 Failed\n",
      "20200930 Failed\n",
      "20200931 Failed\n",
      "20201228 Failed\n",
      "20201229 Failed\n",
      "20201230 Failed\n",
      "20201231 Failed\n",
      "CPU times: user 4.17 s, sys: 353 ms, total: 4.52 s\n",
      "Wall time: 2min 45s\n"
     ]
    }
   ],
   "source": [
    "%%time\n",
    "# Quarterly\n",
    "for y in range(2018,cur_year+1):\n",
    "    year = str(y)\n",
    "    for m in range(3,13,3):\n",
    "        if m < 10:\n",
    "            month = '0'+ str(m)\n",
    "        else:\n",
    "            month = str(m)\n",
    "        for d in range(28,32):\n",
    "            day = str(d)\n",
    "            date = year + month + day\n",
    "            status = 'true'\n",
    "            url = \"https://research.ftserussell.com/Analytics/FactSheets/Home/DownloadSingleIssueByDate?IssueName=USBIG&IssueDate=\"+date+\"&IsManual=\"+status\n",
    "            response = requests.get(url)\n",
    "            if response.url == error_url or response.url == error_url2:\n",
    "                status = 'false'\n",
    "                url = \"https://research.ftserussell.com/Analytics/FactSheets/Home/DownloadSingleIssueByDate?IssueName=USBIG&IssueDate=\"+date+\"&IsManual=\"+status\n",
    "                response = requests.get(url)\n",
    "                if response.url == error_url or response.url == error_url2:\n",
    "                    print(date + \" Failed\")\n",
    "            elif response.url != error_url and response.url != error_url2:\n",
    "                print(url)\n",
    "                quarterly_links.append(url)\n",
    "                break"
   ]
  },
  {
   "cell_type": "code",
   "execution_count": 9,
   "metadata": {
    "scrolled": true
   },
   "outputs": [
    {
     "name": "stdout",
     "output_type": "stream",
     "text": [
      "Downloading file:DownloadSingleIssueByDate?IssueName=USBIG&IssueDate=20190630&IsManual=true\n",
      "DownloadSingleIssueByDate?IssueName=USBIG&IssueDate=20190630&IsManual=true downloaded!\n",
      "\n",
      "Downloading file:DownloadSingleIssueByDate?IssueName=USBIG&IssueDate=20190930&IsManual=true\n",
      "DownloadSingleIssueByDate?IssueName=USBIG&IssueDate=20190930&IsManual=true downloaded!\n",
      "\n",
      "Downloading file:DownloadSingleIssueByDate?IssueName=USBIG&IssueDate=20191231&IsManual=true\n",
      "DownloadSingleIssueByDate?IssueName=USBIG&IssueDate=20191231&IsManual=true downloaded!\n",
      "\n",
      "All reports downloaded!\n"
     ]
    }
   ],
   "source": [
    "# Downloading files\n",
    "for url in quarterly_links: \n",
    "    file_name = url.split('/')[-1]    \n",
    "    print(\"Downloading file:%s\"%file_name) \n",
    "    r = requests.get(url, stream = True) \n",
    "    with open(file_name, 'wb') as f: \n",
    "        for chunk in r.iter_content(chunk_size = 1024*1024): \n",
    "            if chunk: \n",
    "                f.write(chunk) \n",
    "    print(\"%s downloaded!\\n\"%file_name)\n",
    "print(\"All reports downloaded!\")"
   ]
  },
  {
   "cell_type": "code",
   "execution_count": 10,
   "metadata": {},
   "outputs": [],
   "source": [
    "file_names = []\n",
    "for url in quarterly_links:\n",
    "    file = url.split('/')[-1]\n",
    "    file_names.append(file)"
   ]
  },
  {
   "cell_type": "code",
   "execution_count": 11,
   "metadata": {},
   "outputs": [
    {
     "name": "stdout",
     "output_type": "stream",
     "text": [
      "DownloadSingleIssueByDate?IssueName=USBIG&IssueDate=20190630&IsManual=true\n",
      "DownloadSingleIssueByDate?IssueName=USBIG&IssueDate=20190930&IsManual=true\n",
      "DownloadSingleIssueByDate?IssueName=USBIG&IssueDate=20191231&IsManual=true\n"
     ]
    }
   ],
   "source": [
    "for file in file_names:\n",
    "    print(file)\n",
    "    os.rename(file,file+'.pdf')"
   ]
  },
  {
   "cell_type": "code",
   "execution_count": 12,
   "metadata": {},
   "outputs": [],
   "source": [
    "file_names1 = []\n",
    "for file in file_names:\n",
    "    file_names1.append(file+'.pdf')"
   ]
  },
  {
   "cell_type": "code",
   "execution_count": 13,
   "metadata": {},
   "outputs": [],
   "source": [
    "bndDF = pd.DataFrame(columns=['File','MC'])\n",
    "for x in range(len(file_names1)):\n",
    "    pdf = PdfFileReader(file_names1[x])\n",
    "    pdf_page = pdf.getPage(1)\n",
    "    pdf_text = pdf_page.extractText()\n",
    "    pdf_text = pdf_text.replace('\\n',' ')\n",
    "    pdf_text = pdf_text.replace('  ',' ')\n",
    "    pdf_text = pdf_text.replace('  ',' ')\n",
    "    mc = re.findall('Totals \\d+ \\d+,\\d+,\\d+', pdf_text, re.IGNORECASE)\n",
    "    if mc == []:\n",
    "        mc = 'n/a'\n",
    "        row = [file_names1[x],mc]\n",
    "        bndDF.loc[x] = row\n",
    "        continue\n",
    "    else:\n",
    "        mc_1 = mc[0].replace(',','')\n",
    "        mc_2 = mc_1.replace('\\n','')\n",
    "        mc_3 = mc_2.replace('Totals','')\n",
    "        mc = [int(s) for s in mc_3.split() if s.isdigit()][1]\n",
    "        row = [file_names1[x],mc]\n",
    "        bndDF.loc[x] = row"
   ]
  },
  {
   "cell_type": "code",
   "execution_count": 14,
   "metadata": {},
   "outputs": [
    {
     "data": {
      "text/plain": [
       "'DownloadSingleIssueByDate?IssueName=USBIG&IssueDate=20190630&IsManual=true.pdf'"
      ]
     },
     "execution_count": 14,
     "metadata": {},
     "output_type": "execute_result"
    }
   ],
   "source": [
    "file_names1[0]"
   ]
  },
  {
   "cell_type": "code",
   "execution_count": 15,
   "metadata": {},
   "outputs": [],
   "source": [
    "pdf = PdfFileReader(file_names1[0])\n",
    "pdf_page = pdf.getPage(0)\n",
    "pdf_text = pdf_page.extractText()"
   ]
  },
  {
   "cell_type": "code",
   "execution_count": 16,
   "metadata": {},
   "outputs": [
    {
     "data": {
      "text/plain": [
       "'ftserussell.comSource: FTSE Russell as of June 30, 2019. Past performance is no guarantee of future results. Returns shown prior to October 1, 1985 reflect hypothetical historical performance.Please see the end for important legal disclosures.FTSE US Broad Investment-Grade Bond Index (USBIG®)| 01FTSE Russell Factsheet | June 30, 2019FTSE US Broad Investment-Grade Bond Index (USBIG®)Broad | US DollarThe FTSE US Broad Investment-Grade Bond Index (USBIG) measures the performance of US Dollar-denominated bonds issued in the US investment-grade bond market. Introduced in 1985, the index covers US Treasury, government sponsored, collateralized, and corporate debt providing a reliable representation of the US investment-grade bond market. Sub-indexes are available in any combination of asset class, maturity, and rating.INDEX PROFILEDescription# of  IssuesPar Amount*Market Value*MarketWeight (%)AverageCoupon (%)Average Life(Years)Yield toMaturity (%)Effective DurationOAS (bps)USBIG7,84120,693.3021,778.82100.003.237.712.525.73481-3 Years1,7024,907.884,987.6422.902.531.982.001.85193-7 Years2,58910,182.4210,568.3548.533.204.872.433.68407-10 Years1,1292,236.462,353.5610.813.278.262.696.816710+ Years2,4213,366.533,869.2617.774.3324.293.3715.6797US Treasury2438,404.708,765.0340.252.397.561.926.370Government Sponsored204478.71509.742.342.904.221.973.8513Collateralized3515,558.605,769.1726.493.624.962.702.9142Credit7,0436,251.296,734.8730.924.0510.623.197.46119*In USD billionsASSET CLASS AND QUALITY COMPOSITION(Market Weight %)HISTORICAL INDEX LEVEL (Unhedged)--- USBIG --- USBIG AAA/AA --- USBIG A --- USBIG BBBIndex Quality: Index quality is defined to be the rating assigned by Standard and Poor™s Financial Services LLC (ﬁS&Pﬂ) when it exists. If a bond is not rated by S&P but it is rated by Moody™s Investor Service, Inc (ﬁMoody™sﬂ), the S&P equivalent of the Moody™s rating is assigned. If a bond is split-rated, that is rated investment grade by S&P or Moody™s and high yield by the other, index quality is taken to be S&P equivalent of the investment grade rating.Return*Standard Deviation*USBIG7.575.27USBIG AAA/AA7.496.09USBIG A8.226.73USBIG BBB8.776.59*Annualized Since Base Date (in %)'"
      ]
     },
     "execution_count": 16,
     "metadata": {},
     "output_type": "execute_result"
    }
   ],
   "source": [
    "pdf_text"
   ]
  },
  {
   "cell_type": "code",
   "execution_count": 17,
   "metadata": {},
   "outputs": [
    {
     "data": {
      "text/plain": [
       "['82100.00']"
      ]
     },
     "execution_count": 17,
     "metadata": {},
     "output_type": "execute_result"
    }
   ],
   "source": [
    "re.findall('\\d+100.00',pdf_text)"
   ]
  },
  {
   "cell_type": "code",
   "execution_count": 18,
   "metadata": {},
   "outputs": [
    {
     "data": {
      "text/html": [
       "<div>\n",
       "<style scoped>\n",
       "    .dataframe tbody tr th:only-of-type {\n",
       "        vertical-align: middle;\n",
       "    }\n",
       "\n",
       "    .dataframe tbody tr th {\n",
       "        vertical-align: top;\n",
       "    }\n",
       "\n",
       "    .dataframe thead th {\n",
       "        text-align: right;\n",
       "    }\n",
       "</style>\n",
       "<table border=\"1\" class=\"dataframe\">\n",
       "  <thead>\n",
       "    <tr style=\"text-align: right;\">\n",
       "      <th></th>\n",
       "      <th>File</th>\n",
       "      <th>MC</th>\n",
       "    </tr>\n",
       "  </thead>\n",
       "  <tbody>\n",
       "    <tr>\n",
       "      <th>0</th>\n",
       "      <td>DownloadSingleIssueByDate?IssueName=USBIG&amp;Issu...</td>\n",
       "      <td>n/a</td>\n",
       "    </tr>\n",
       "    <tr>\n",
       "      <th>1</th>\n",
       "      <td>DownloadSingleIssueByDate?IssueName=USBIG&amp;Issu...</td>\n",
       "      <td>n/a</td>\n",
       "    </tr>\n",
       "    <tr>\n",
       "      <th>2</th>\n",
       "      <td>DownloadSingleIssueByDate?IssueName=USBIG&amp;Issu...</td>\n",
       "      <td>n/a</td>\n",
       "    </tr>\n",
       "  </tbody>\n",
       "</table>\n",
       "</div>"
      ],
      "text/plain": [
       "                                                File   MC\n",
       "0  DownloadSingleIssueByDate?IssueName=USBIG&Issu...  n/a\n",
       "1  DownloadSingleIssueByDate?IssueName=USBIG&Issu...  n/a\n",
       "2  DownloadSingleIssueByDate?IssueName=USBIG&Issu...  n/a"
      ]
     },
     "execution_count": 18,
     "metadata": {},
     "output_type": "execute_result"
    }
   ],
   "source": [
    "bndDF"
   ]
  },
  {
   "cell_type": "code",
   "execution_count": 19,
   "metadata": {},
   "outputs": [
    {
     "name": "stdout",
     "output_type": "stream",
     "text": [
      "Deleting file:DownloadSingleIssueByDate?IssueName=USBIG&IssueDate=20190630&IsManual=true.pdf\n",
      "DownloadSingleIssueByDate?IssueName=USBIG&IssueDate=20190630&IsManual=true.pdf deleted!\n",
      "\n",
      "Deleting file:DownloadSingleIssueByDate?IssueName=USBIG&IssueDate=20190930&IsManual=true.pdf\n",
      "DownloadSingleIssueByDate?IssueName=USBIG&IssueDate=20190930&IsManual=true.pdf deleted!\n",
      "\n",
      "Deleting file:DownloadSingleIssueByDate?IssueName=USBIG&IssueDate=20191231&IsManual=true.pdf\n",
      "DownloadSingleIssueByDate?IssueName=USBIG&IssueDate=20191231&IsManual=true.pdf deleted!\n",
      "\n",
      "All reports deleted!\n"
     ]
    }
   ],
   "source": [
    "# Deleting files\n",
    "for file in file_names1:\n",
    "    print(\"Deleting file:%s\"%file) \n",
    "    os.remove(file)\n",
    "    print(\"%s deleted!\\n\"%file)\n",
    "print(\"All reports deleted!\")"
   ]
  },
  {
   "cell_type": "code",
   "execution_count": null,
   "metadata": {},
   "outputs": [],
   "source": []
  }
 ],
 "metadata": {
  "kernelspec": {
   "display_name": "Python 3",
   "language": "python",
   "name": "python3"
  },
  "language_info": {
   "codemirror_mode": {
    "name": "ipython",
    "version": 3
   },
   "file_extension": ".py",
   "mimetype": "text/x-python",
   "name": "python",
   "nbconvert_exporter": "python",
   "pygments_lexer": "ipython3",
   "version": "3.7.6"
  }
 },
 "nbformat": 4,
 "nbformat_minor": 4
}
