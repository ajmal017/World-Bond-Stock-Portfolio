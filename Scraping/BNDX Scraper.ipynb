{
 "cells": [
  {
   "cell_type": "code",
   "execution_count": 1,
   "metadata": {},
   "outputs": [],
   "source": [
    "# International Bonds - BNDX, Bloomberg Barclays Global Aggregate ex-USD Float Adjusted RIC Capped Index (USD Hedged): \n",
    "#                       Using FTSE World Broad Investment-Grade Bond Index (WorldBIG) instead"
   ]
  },
  {
   "cell_type": "code",
   "execution_count": 2,
   "metadata": {},
   "outputs": [],
   "source": [
    "import numpy as np\n",
    "import pandas as pd\n",
    "from PyPDF2 import PdfFileReader\n",
    "import re\n",
    "import datetime\n",
    "import requests\n",
    "import os"
   ]
  },
  {
   "cell_type": "code",
   "execution_count": 3,
   "metadata": {},
   "outputs": [],
   "source": [
    "bndxURL = \"https://research.ftserussell.com/Analytics/FactSheets/Home/DownloadSingleIssueByDate?IssueName=WBIG&IssueDate=20191031&IsManual=true\""
   ]
  },
  {
   "cell_type": "code",
   "execution_count": 4,
   "metadata": {},
   "outputs": [],
   "source": [
    "year = ''\n",
    "month = ''\n",
    "day = ''"
   ]
  },
  {
   "cell_type": "code",
   "execution_count": 5,
   "metadata": {},
   "outputs": [
    {
     "data": {
      "text/plain": [
       "2020"
      ]
     },
     "execution_count": 5,
     "metadata": {},
     "output_type": "execute_result"
    }
   ],
   "source": [
    "cur_year = datetime.datetime.now().year\n",
    "cur_year"
   ]
  },
  {
   "cell_type": "code",
   "execution_count": 6,
   "metadata": {},
   "outputs": [],
   "source": [
    "error_url = 'https://www.ftserussell.com/products/indices/home/errorview?aspxerrorpath=/Analytics/FactSheets/Home/DownloadSingleIssueByDate'"
   ]
  },
  {
   "cell_type": "code",
   "execution_count": 7,
   "metadata": {},
   "outputs": [],
   "source": [
    "quarterly_links = []"
   ]
  },
  {
   "cell_type": "code",
   "execution_count": 8,
   "metadata": {
    "scrolled": true
   },
   "outputs": [
    {
     "name": "stdout",
     "output_type": "stream",
     "text": [
      "https://research.ftserussell.com/Analytics/FactSheets/Home/DownloadSingleIssueByDate?IssueName=WBIG&IssueDate=20180328&IsManual=true.pdf\n",
      "https://research.ftserussell.com/Analytics/FactSheets/Home/DownloadSingleIssueByDate?IssueName=WBIG&IssueDate=20180628&IsManual=true.pdf\n",
      "https://research.ftserussell.com/Analytics/FactSheets/Home/DownloadSingleIssueByDate?IssueName=WBIG&IssueDate=20180928&IsManual=true.pdf\n",
      "https://research.ftserussell.com/Analytics/FactSheets/Home/DownloadSingleIssueByDate?IssueName=WBIG&IssueDate=20181228&IsManual=true.pdf\n",
      "https://research.ftserussell.com/Analytics/FactSheets/Home/DownloadSingleIssueByDate?IssueName=WBIG&IssueDate=20190328&IsManual=true.pdf\n",
      "https://research.ftserussell.com/Analytics/FactSheets/Home/DownloadSingleIssueByDate?IssueName=WBIG&IssueDate=20190628&IsManual=true.pdf\n",
      "https://research.ftserussell.com/Analytics/FactSheets/Home/DownloadSingleIssueByDate?IssueName=WBIG&IssueDate=20190928&IsManual=true.pdf\n",
      "https://research.ftserussell.com/Analytics/FactSheets/Home/DownloadSingleIssueByDate?IssueName=WBIG&IssueDate=20191228&IsManual=true.pdf\n",
      "https://research.ftserussell.com/Analytics/FactSheets/Home/DownloadSingleIssueByDate?IssueName=WBIG&IssueDate=20200328&IsManual=true.pdf\n",
      "https://research.ftserussell.com/Analytics/FactSheets/Home/DownloadSingleIssueByDate?IssueName=WBIG&IssueDate=20200628&IsManual=true.pdf\n",
      "https://research.ftserussell.com/Analytics/FactSheets/Home/DownloadSingleIssueByDate?IssueName=WBIG&IssueDate=20200928&IsManual=true.pdf\n",
      "https://research.ftserussell.com/Analytics/FactSheets/Home/DownloadSingleIssueByDate?IssueName=WBIG&IssueDate=20201228&IsManual=true.pdf\n"
     ]
    }
   ],
   "source": [
    "# Quarterly\n",
    "for y in range(2018,cur_year+1):\n",
    "    year = str(y)\n",
    "    for m in range(3,13,3):\n",
    "        if m < 10:\n",
    "            month = '0'+ str(m)\n",
    "        else:\n",
    "            month = str(m)\n",
    "        for d in range(28,32):\n",
    "            day = str(d)\n",
    "            date = year + month + day\n",
    "            status = 'true'\n",
    "            url = \"https://research.ftserussell.com/Analytics/FactSheets/Home/DownloadSingleIssueByDate?IssueName=WBIG&IssueDate=\"+date+\"&IsManual=\"+status+\".pdf\"\n",
    "            response = requests.get(url)\n",
    "            if response.url == error_url:\n",
    "                status = 'false'\n",
    "                url = \"https://research.ftserussell.com/Analytics/FactSheets/Home/DownloadSingleIssueByDate?IssueName=WBIG&IssueDate=\"+date+\"&IsManual=\"+status+\".pdf\"\n",
    "                response = requests.get(url)\n",
    "                if response.url == error_url:\n",
    "                    print(date + \" Failed\")\n",
    "            elif response.url != error_url:\n",
    "                print(url)\n",
    "                quarterly_links.append(url)\n",
    "                break"
   ]
  },
  {
   "cell_type": "code",
   "execution_count": 9,
   "metadata": {
    "scrolled": true
   },
   "outputs": [
    {
     "name": "stdout",
     "output_type": "stream",
     "text": [
      "Downloading file:DownloadSingleIssueByDate?IssueName=WBIG&IssueDate=20180328&IsManual=true.pdf\n",
      "DownloadSingleIssueByDate?IssueName=WBIG&IssueDate=20180328&IsManual=true.pdf downloaded!\n",
      "\n",
      "Downloading file:DownloadSingleIssueByDate?IssueName=WBIG&IssueDate=20180628&IsManual=true.pdf\n",
      "DownloadSingleIssueByDate?IssueName=WBIG&IssueDate=20180628&IsManual=true.pdf downloaded!\n",
      "\n",
      "Downloading file:DownloadSingleIssueByDate?IssueName=WBIG&IssueDate=20180928&IsManual=true.pdf\n",
      "DownloadSingleIssueByDate?IssueName=WBIG&IssueDate=20180928&IsManual=true.pdf downloaded!\n",
      "\n",
      "Downloading file:DownloadSingleIssueByDate?IssueName=WBIG&IssueDate=20181228&IsManual=true.pdf\n",
      "DownloadSingleIssueByDate?IssueName=WBIG&IssueDate=20181228&IsManual=true.pdf downloaded!\n",
      "\n",
      "Downloading file:DownloadSingleIssueByDate?IssueName=WBIG&IssueDate=20190328&IsManual=true.pdf\n",
      "DownloadSingleIssueByDate?IssueName=WBIG&IssueDate=20190328&IsManual=true.pdf downloaded!\n",
      "\n",
      "Downloading file:DownloadSingleIssueByDate?IssueName=WBIG&IssueDate=20190628&IsManual=true.pdf\n",
      "DownloadSingleIssueByDate?IssueName=WBIG&IssueDate=20190628&IsManual=true.pdf downloaded!\n",
      "\n",
      "Downloading file:DownloadSingleIssueByDate?IssueName=WBIG&IssueDate=20190928&IsManual=true.pdf\n",
      "DownloadSingleIssueByDate?IssueName=WBIG&IssueDate=20190928&IsManual=true.pdf downloaded!\n",
      "\n",
      "Downloading file:DownloadSingleIssueByDate?IssueName=WBIG&IssueDate=20191228&IsManual=true.pdf\n",
      "DownloadSingleIssueByDate?IssueName=WBIG&IssueDate=20191228&IsManual=true.pdf downloaded!\n",
      "\n",
      "Downloading file:DownloadSingleIssueByDate?IssueName=WBIG&IssueDate=20200328&IsManual=true.pdf\n",
      "DownloadSingleIssueByDate?IssueName=WBIG&IssueDate=20200328&IsManual=true.pdf downloaded!\n",
      "\n",
      "Downloading file:DownloadSingleIssueByDate?IssueName=WBIG&IssueDate=20200628&IsManual=true.pdf\n",
      "DownloadSingleIssueByDate?IssueName=WBIG&IssueDate=20200628&IsManual=true.pdf downloaded!\n",
      "\n",
      "Downloading file:DownloadSingleIssueByDate?IssueName=WBIG&IssueDate=20200928&IsManual=true.pdf\n",
      "DownloadSingleIssueByDate?IssueName=WBIG&IssueDate=20200928&IsManual=true.pdf downloaded!\n",
      "\n",
      "Downloading file:DownloadSingleIssueByDate?IssueName=WBIG&IssueDate=20201228&IsManual=true.pdf\n",
      "DownloadSingleIssueByDate?IssueName=WBIG&IssueDate=20201228&IsManual=true.pdf downloaded!\n",
      "\n",
      "All reports downloaded!\n"
     ]
    }
   ],
   "source": [
    "# Downloading files\n",
    "for url in quarterly_links: \n",
    "    file_name = url.split('/')[-1]    \n",
    "    print(\"Downloading file:%s\"%file_name) \n",
    "    r = requests.get(url, stream = True) \n",
    "    with open(file_name, 'wb') as f: \n",
    "        for chunk in r.iter_content(chunk_size = 1024*1024): \n",
    "            if chunk: \n",
    "                f.write(chunk) \n",
    "    print(\"%s downloaded!\\n\"%file_name)\n",
    "print(\"All reports downloaded!\")"
   ]
  },
  {
   "cell_type": "code",
   "execution_count": 10,
   "metadata": {},
   "outputs": [],
   "source": [
    "file_names = []\n",
    "for url in quarterly_links:\n",
    "    file = url.split('/')[-1]\n",
    "    file_names.append(file)"
   ]
  },
  {
   "cell_type": "code",
   "execution_count": 11,
   "metadata": {},
   "outputs": [
    {
     "ename": "PdfReadError",
     "evalue": "EOF marker not found",
     "output_type": "error",
     "traceback": [
      "\u001b[0;31m---------------------------------------------------------------------------\u001b[0m",
      "\u001b[0;31mPdfReadError\u001b[0m                              Traceback (most recent call last)",
      "\u001b[0;32m<ipython-input-11-95def4d0733f>\u001b[0m in \u001b[0;36m<module>\u001b[0;34m\u001b[0m\n\u001b[1;32m      1\u001b[0m \u001b[0mbndxDF\u001b[0m \u001b[0;34m=\u001b[0m \u001b[0mpd\u001b[0m\u001b[0;34m.\u001b[0m\u001b[0mDataFrame\u001b[0m\u001b[0;34m(\u001b[0m\u001b[0mcolumns\u001b[0m\u001b[0;34m=\u001b[0m\u001b[0;34m[\u001b[0m\u001b[0;34m'File'\u001b[0m\u001b[0;34m,\u001b[0m\u001b[0;34m'MC'\u001b[0m\u001b[0;34m]\u001b[0m\u001b[0;34m)\u001b[0m\u001b[0;34m\u001b[0m\u001b[0;34m\u001b[0m\u001b[0m\n\u001b[1;32m      2\u001b[0m \u001b[0;32mfor\u001b[0m \u001b[0mx\u001b[0m \u001b[0;32min\u001b[0m \u001b[0mrange\u001b[0m\u001b[0;34m(\u001b[0m\u001b[0mlen\u001b[0m\u001b[0;34m(\u001b[0m\u001b[0mfile_names\u001b[0m\u001b[0;34m)\u001b[0m\u001b[0;34m)\u001b[0m\u001b[0;34m:\u001b[0m\u001b[0;34m\u001b[0m\u001b[0;34m\u001b[0m\u001b[0m\n\u001b[0;32m----> 3\u001b[0;31m     \u001b[0mpdf\u001b[0m \u001b[0;34m=\u001b[0m \u001b[0mPdfFileReader\u001b[0m\u001b[0;34m(\u001b[0m\u001b[0mfile_names\u001b[0m\u001b[0;34m[\u001b[0m\u001b[0mx\u001b[0m\u001b[0;34m]\u001b[0m\u001b[0;34m)\u001b[0m\u001b[0;34m\u001b[0m\u001b[0;34m\u001b[0m\u001b[0m\n\u001b[0m\u001b[1;32m      4\u001b[0m     \u001b[0mpdf_page\u001b[0m \u001b[0;34m=\u001b[0m \u001b[0mpdf\u001b[0m\u001b[0;34m.\u001b[0m\u001b[0mgetPage\u001b[0m\u001b[0;34m(\u001b[0m\u001b[0;36m1\u001b[0m\u001b[0;34m)\u001b[0m\u001b[0;34m\u001b[0m\u001b[0;34m\u001b[0m\u001b[0m\n\u001b[1;32m      5\u001b[0m     \u001b[0mpdf_text\u001b[0m \u001b[0;34m=\u001b[0m \u001b[0mpdf_page\u001b[0m\u001b[0;34m.\u001b[0m\u001b[0mextractText\u001b[0m\u001b[0;34m(\u001b[0m\u001b[0;34m)\u001b[0m\u001b[0;34m\u001b[0m\u001b[0;34m\u001b[0m\u001b[0m\n",
      "\u001b[0;32m~/miniconda3/lib/python3.7/site-packages/PyPDF2/pdf.py\u001b[0m in \u001b[0;36m__init__\u001b[0;34m(self, stream, strict, warndest, overwriteWarnings)\u001b[0m\n\u001b[1;32m   1082\u001b[0m             \u001b[0mstream\u001b[0m \u001b[0;34m=\u001b[0m \u001b[0mBytesIO\u001b[0m\u001b[0;34m(\u001b[0m\u001b[0mb_\u001b[0m\u001b[0;34m(\u001b[0m\u001b[0mfileobj\u001b[0m\u001b[0;34m.\u001b[0m\u001b[0mread\u001b[0m\u001b[0;34m(\u001b[0m\u001b[0;34m)\u001b[0m\u001b[0;34m)\u001b[0m\u001b[0;34m)\u001b[0m\u001b[0;34m\u001b[0m\u001b[0;34m\u001b[0m\u001b[0m\n\u001b[1;32m   1083\u001b[0m             \u001b[0mfileobj\u001b[0m\u001b[0;34m.\u001b[0m\u001b[0mclose\u001b[0m\u001b[0;34m(\u001b[0m\u001b[0;34m)\u001b[0m\u001b[0;34m\u001b[0m\u001b[0;34m\u001b[0m\u001b[0m\n\u001b[0;32m-> 1084\u001b[0;31m         \u001b[0mself\u001b[0m\u001b[0;34m.\u001b[0m\u001b[0mread\u001b[0m\u001b[0;34m(\u001b[0m\u001b[0mstream\u001b[0m\u001b[0;34m)\u001b[0m\u001b[0;34m\u001b[0m\u001b[0;34m\u001b[0m\u001b[0m\n\u001b[0m\u001b[1;32m   1085\u001b[0m         \u001b[0mself\u001b[0m\u001b[0;34m.\u001b[0m\u001b[0mstream\u001b[0m \u001b[0;34m=\u001b[0m \u001b[0mstream\u001b[0m\u001b[0;34m\u001b[0m\u001b[0;34m\u001b[0m\u001b[0m\n\u001b[1;32m   1086\u001b[0m \u001b[0;34m\u001b[0m\u001b[0m\n",
      "\u001b[0;32m~/miniconda3/lib/python3.7/site-packages/PyPDF2/pdf.py\u001b[0m in \u001b[0;36mread\u001b[0;34m(self, stream)\u001b[0m\n\u001b[1;32m   1694\u001b[0m         \u001b[0;32mwhile\u001b[0m \u001b[0mline\u001b[0m\u001b[0;34m[\u001b[0m\u001b[0;34m:\u001b[0m\u001b[0;36m5\u001b[0m\u001b[0;34m]\u001b[0m \u001b[0;34m!=\u001b[0m \u001b[0mb_\u001b[0m\u001b[0;34m(\u001b[0m\u001b[0;34m\"%%EOF\"\u001b[0m\u001b[0;34m)\u001b[0m\u001b[0;34m:\u001b[0m\u001b[0;34m\u001b[0m\u001b[0;34m\u001b[0m\u001b[0m\n\u001b[1;32m   1695\u001b[0m             \u001b[0;32mif\u001b[0m \u001b[0mstream\u001b[0m\u001b[0;34m.\u001b[0m\u001b[0mtell\u001b[0m\u001b[0;34m(\u001b[0m\u001b[0;34m)\u001b[0m \u001b[0;34m<\u001b[0m \u001b[0mlast1K\u001b[0m\u001b[0;34m:\u001b[0m\u001b[0;34m\u001b[0m\u001b[0;34m\u001b[0m\u001b[0m\n\u001b[0;32m-> 1696\u001b[0;31m                 \u001b[0;32mraise\u001b[0m \u001b[0mutils\u001b[0m\u001b[0;34m.\u001b[0m\u001b[0mPdfReadError\u001b[0m\u001b[0;34m(\u001b[0m\u001b[0;34m\"EOF marker not found\"\u001b[0m\u001b[0;34m)\u001b[0m\u001b[0;34m\u001b[0m\u001b[0;34m\u001b[0m\u001b[0m\n\u001b[0m\u001b[1;32m   1697\u001b[0m             \u001b[0mline\u001b[0m \u001b[0;34m=\u001b[0m \u001b[0mself\u001b[0m\u001b[0;34m.\u001b[0m\u001b[0mreadNextEndLine\u001b[0m\u001b[0;34m(\u001b[0m\u001b[0mstream\u001b[0m\u001b[0;34m)\u001b[0m\u001b[0;34m\u001b[0m\u001b[0;34m\u001b[0m\u001b[0m\n\u001b[1;32m   1698\u001b[0m             \u001b[0;32mif\u001b[0m \u001b[0mdebug\u001b[0m\u001b[0;34m:\u001b[0m \u001b[0mprint\u001b[0m\u001b[0;34m(\u001b[0m\u001b[0;34m\"  line:\"\u001b[0m\u001b[0;34m,\u001b[0m\u001b[0mline\u001b[0m\u001b[0;34m)\u001b[0m\u001b[0;34m\u001b[0m\u001b[0;34m\u001b[0m\u001b[0m\n",
      "\u001b[0;31mPdfReadError\u001b[0m: EOF marker not found"
     ]
    }
   ],
   "source": [
    "bndxDF = pd.DataFrame(columns=['File','MC'])\n",
    "for x in range(len(file_names)):\n",
    "    pdf = PdfFileReader(file_names[x])\n",
    "    pdf_page = pdf.getPage(1)\n",
    "    pdf_text = pdf_page.extractText()\n",
    "    pdf_text = pdf_text.replace('\\n',' ')\n",
    "    pdf_text = pdf_text.replace('  ',' ')\n",
    "    pdf_text = pdf_text.replace('  ',' ')\n",
    "    mc = re.findall('Totals \\d+ \\d+,\\d+,\\d+', pdf_text, re.IGNORECASE)\n",
    "    if mc == []:\n",
    "        mc = 'n/a'\n",
    "        row = [file_names[x],mc]\n",
    "        bndxDF.loc[x] = row\n",
    "        continue\n",
    "    else:\n",
    "        mc_1 = mc[0].replace(',','')\n",
    "        mc_2 = mc_1.replace('\\n','')\n",
    "        mc_3 = mc_2.replace('Totals','')\n",
    "        mc = [int(s) for s in mc_3.split() if s.isdigit()][1]\n",
    "        row = [file_names[x],mc]\n",
    "        bndxDF.loc[x] = row"
   ]
  },
  {
   "cell_type": "code",
   "execution_count": null,
   "metadata": {},
   "outputs": [],
   "source": [
    "bndxDF"
   ]
  },
  {
   "cell_type": "code",
   "execution_count": null,
   "metadata": {},
   "outputs": [],
   "source": [
    "# Deleting files\n",
    "for url in quarterly_links:\n",
    "    file = url.split('/')[-1]\n",
    "    print(\"Deleting file:%s\"%file) \n",
    "    os.remove(file)\n",
    "    print(\"%s deleted!\\n\"%file)\n",
    "print(\"All reports deleted!\")"
   ]
  },
  {
   "cell_type": "code",
   "execution_count": null,
   "metadata": {},
   "outputs": [],
   "source": []
  }
 ],
 "metadata": {
  "kernelspec": {
   "display_name": "Python 3",
   "language": "python",
   "name": "python3"
  },
  "language_info": {
   "codemirror_mode": {
    "name": "ipython",
    "version": 3
   },
   "file_extension": ".py",
   "mimetype": "text/x-python",
   "name": "python",
   "nbconvert_exporter": "python",
   "pygments_lexer": "ipython3",
   "version": "3.7.6"
  }
 },
 "nbformat": 4,
 "nbformat_minor": 4
}
