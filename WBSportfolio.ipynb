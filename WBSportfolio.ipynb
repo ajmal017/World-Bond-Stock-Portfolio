{
 "cells": [
  {
   "cell_type": "code",
   "execution_count": 1,
   "metadata": {},
   "outputs": [],
   "source": [
    "import numpy as np\n",
    "import pandas as pd\n",
    "from scraperFunctions import vtiScraper,vxusScraper, bndScraper, bndxScraper, etfPriceData, etfCurrPrices\n",
    "from updaterFunctions import vtiUpdater, vxusUpdater, bndUpdater, bndxUpdater"
   ]
  },
  {
   "cell_type": "code",
   "execution_count": null,
   "metadata": {},
   "outputs": [],
   "source": [
    "# Running scrapers (If you already have scraped historical data, go to updater)\n",
    "vti_MC_data = vtiScraper()\n",
    "vxus_MC_data = vxusScraper()\n",
    "bnd_MC_data = bndScraper()\n",
    "bndx_MC_data = bndxScraper()\n",
    "# Saving data\n",
    "vti_MC_data.to_csv('vti_MC_data.csv',index=False)\n",
    "vxus_MC_data.to_csv('vxus_MC_data.csv',index=False)\n",
    "bnd_MC_data.to_csv('bnd_MC_data.csv',index=False)\n",
    "bndx_MC_data.to_csv('bndx_MC_data.csv',index=False)"
   ]
  },
  {
   "cell_type": "code",
   "execution_count": null,
   "metadata": {},
   "outputs": [],
   "source": [
    "# Updating data (If already have updated historical data, go to reader)\n",
    "vtiUpdater()\n",
    "vxusUpdater()\n",
    "bndUpdater()\n",
    "bndxUpdater()"
   ]
  },
  {
   "cell_type": "code",
   "execution_count": 2,
   "metadata": {},
   "outputs": [],
   "source": [
    "# Reading saved data\n",
    "vti_MC_data = pd.read_csv('vti_MC_Data.csv')\n",
    "vxus_MC_data = pd.read_csv('vxus_MC_Data.csv')\n",
    "bnd_MC_data = pd.read_csv('bnd_MC_Data.csv')\n",
    "bndx_MC_data = pd.read_csv('bndx_MC_Data.csv')"
   ]
  },
  {
   "cell_type": "code",
   "execution_count": 3,
   "metadata": {},
   "outputs": [],
   "source": [
    "# Getting historical price data for etfs (This only takes a couple seconds to run.)\n",
    "etfPriceData()\n",
    "etf_price_data = pd.read_csv('etf_price_data.csv')"
   ]
  },
  {
   "cell_type": "code",
   "execution_count": 5,
   "metadata": {},
   "outputs": [
    {
     "output_type": "execute_result",
     "data": {
      "text/plain": "99.593692"
     },
     "metadata": {},
     "execution_count": 5
    }
   ],
   "source": [
    "# format [U.S. Stocks, International Stocks, U.S. Bonds, International Bonds] (in trillions for market cap)\n",
    "# As of December 30,2019\n",
    "EOQmarketcaps = np.array([31.780092,22.5263,25.734560,19.55274])\n",
    "EOQprices = np.array([163.62,83.86,55.69,56.58])\n",
    "currentPrices = np.asarray(etfCurrPrices(['vti','vxus','bnd','bndx']))\n",
    "amountInvested = 5925\n",
    "\n",
    "sum(EOQmarketcaps)"
   ]
  },
  {
   "cell_type": "code",
   "execution_count": null,
   "metadata": {},
   "outputs": [],
   "source": [
    "EOQproportions = EOQmarketcaps/sum(EOQmarketcaps)\n",
    "EOQproportions"
   ]
  },
  {
   "cell_type": "code",
   "execution_count": null,
   "metadata": {},
   "outputs": [],
   "source": [
    "priceRatios = currentPrices / EOQprices\n",
    "priceRatios"
   ]
  },
  {
   "cell_type": "code",
   "execution_count": null,
   "metadata": {},
   "outputs": [],
   "source": [
    "products = EOQproportions * priceRatios\n",
    "products"
   ]
  },
  {
   "cell_type": "code",
   "execution_count": null,
   "metadata": {},
   "outputs": [],
   "source": [
    "# Weights for each etf theoretical\n",
    "revisedProportions = products / sum(products)\n",
    "revisedProportions"
   ]
  },
  {
   "cell_type": "code",
   "execution_count": null,
   "metadata": {},
   "outputs": [],
   "source": [
    "sum(revisedProportions)"
   ]
  },
  {
   "cell_type": "code",
   "execution_count": null,
   "metadata": {},
   "outputs": [],
   "source": [
    "desiredValues = revisedProportions * amountInvested\n",
    "desiredValues"
   ]
  },
  {
   "cell_type": "code",
   "execution_count": null,
   "metadata": {},
   "outputs": [],
   "source": [
    "sum(desiredValues)"
   ]
  },
  {
   "cell_type": "code",
   "execution_count": null,
   "metadata": {},
   "outputs": [],
   "source": [
    "# Shares of etfs to buy theoretically\n",
    "shares = desiredValues/currentPrices\n",
    "shares"
   ]
  },
  {
   "cell_type": "code",
   "execution_count": null,
   "metadata": {},
   "outputs": [],
   "source": [
    "schwab_shares = shares * .984\n",
    "schwab_shares"
   ]
  },
  {
   "cell_type": "code",
   "execution_count": null,
   "metadata": {},
   "outputs": [],
   "source": [
    "# Shares of etfs to buy without fractional shares\n",
    "s = np.round(schwab_shares)\n",
    "s"
   ]
  },
  {
   "cell_type": "code",
   "execution_count": null,
   "metadata": {},
   "outputs": [],
   "source": [
    "s*currentPrices"
   ]
  },
  {
   "cell_type": "code",
   "execution_count": null,
   "metadata": {},
   "outputs": [],
   "source": [
    "sum(s*currentPrices)"
   ]
  },
  {
   "cell_type": "code",
   "execution_count": null,
   "metadata": {},
   "outputs": [],
   "source": [
    "y = (s*currentPrices)/sum(s*currentPrices)\n",
    "# array([0.32650404, 0.22523272, 0.25267487, 0.19558837])"
   ]
  },
  {
   "cell_type": "code",
   "execution_count": null,
   "metadata": {},
   "outputs": [],
   "source": [
    "# New weights of portfolio\n",
    "y * 100"
   ]
  },
  {
   "cell_type": "code",
   "execution_count": null,
   "metadata": {},
   "outputs": [],
   "source": [
    "z = y * np.array([0.03,0.035,0.09,0.09])"
   ]
  },
  {
   "cell_type": "code",
   "execution_count": null,
   "metadata": {},
   "outputs": [],
   "source": [
    "cost = sum(z)/4\n",
    "cost"
   ]
  },
  {
   "cell_type": "code",
   "execution_count": null,
   "metadata": {},
   "outputs": [],
   "source": [
    "# How much it costs to construct the portfolio\n",
    "amountInvested * cost/100"
   ]
  },
  {
   "cell_type": "code",
   "execution_count": null,
   "metadata": {},
   "outputs": [],
   "source": []
  }
 ],
 "metadata": {
  "kernelspec": {
   "display_name": "Python 3",
   "language": "python",
   "name": "python3"
  },
  "language_info": {
   "codemirror_mode": {
    "name": "ipython",
    "version": 3
   },
   "file_extension": ".py",
   "mimetype": "text/x-python",
   "name": "python",
   "nbconvert_exporter": "python",
   "pygments_lexer": "ipython3",
   "version": "3.8.2-final"
  }
 },
 "nbformat": 4,
 "nbformat_minor": 4
}