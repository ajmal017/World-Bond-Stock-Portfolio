{
 "cells": [
  {
   "cell_type": "code",
   "execution_count": 2,
   "metadata": {},
   "outputs": [],
   "source": [
    "import numpy as np\n",
    "from bs4 import BeautifulSoup\n",
    "from scraperFunctions import vtiScraper"
   ]
  },
  {
   "cell_type": "code",
   "execution_count": 2,
   "metadata": {},
   "outputs": [],
   "source": [
    "# US Stocks - VTI, CRSP U.S. Total Market Index: http://www.crsp.com/fact-sheet-archive\n",
    "# US Bonds - BND, Bminimizeomberg Barclays U.S. Aggregate Float Adjusted Index:\n",
    "#            Using FTSE US Broad Investment-Grade Bond Index (USBIG®) instead\n",
    "# International Stocks - VXUS, FTSE Global All Cap ex US Index: https://www.ftserussell.com/analytics/factsheets/home/search\n",
    "# International Bonds - BNDX, Bloomberg Barclays Global Aggregate ex-USD Float Adjusted RIC Capped Index (USD Hedged): \n",
    "#                       Using FTSE World Broad Investment-Grade Bond Index (WorldBIG) instead"
   ]
  },
  {
   "cell_type": "code",
   "execution_count": 3,
   "metadata": {},
   "outputs": [
    {
     "name": "stdout",
     "output_type": "stream",
     "text": [
      "vti 119.21\n",
      "bnd 80.85\n",
      "vxus 37.33\n",
      "bndx 54.96\n"
     ]
    }
   ],
   "source": [
    "options = webdriver.ChromeOptions()\n",
    "options.add_argument('--headless')\n",
    "driver = webdriver.Chrome(options=options)\n",
    "etfs = ['vti','bnd','vxus','bndx']\n",
    "prices = []\n",
    "\n",
    "for etf in etfs:\n",
    "    driver.get('https://finance.yahoo.com/quote/'+etf)\n",
    "    html = driver.page_source\n",
    "    soup = BeautifulSoup(html,features=\"html.parser\")\n",
    "    x = soup.find('span', {'class':'Trsdu(0.3s) Fw(b) Fz(36px) Mb(-4px) D(ib)'})\n",
    "    price = float(x.text)\n",
    "    prices.append(price)\n",
    "    print(etf,price)\n",
    "driver.close()"
   ]
  },
  {
   "cell_type": "code",
   "execution_count": 22,
   "metadata": {},
   "outputs": [
    {
     "data": {
      "text/plain": [
       "99.593692"
      ]
     },
     "execution_count": 22,
     "metadata": {},
     "output_type": "execute_result"
    }
   ],
   "source": [
    "# format [U.S. Stocks, U.S. Bonds, International Stocks, International Bonds] (in trillions for market cap)\n",
    "# As of December 30,2019\n",
    "EOQmarketcaps = np.array([31.780092,22.5263,25.734560,19.55274])\n",
    "EOQprices = np.array([163.62,83.86,55.69,56.58])\n",
    "currentPrices = np.asarray(prices)\n",
    "amountInvested = 5925\n",
    "\n",
    "sum(EOQmarketcaps)"
   ]
  },
  {
   "cell_type": "code",
   "execution_count": 23,
   "metadata": {},
   "outputs": [
    {
     "data": {
      "text/plain": [
       "array([0.31909744, 0.226182  , 0.25839548, 0.19632508])"
      ]
     },
     "execution_count": 23,
     "metadata": {},
     "output_type": "execute_result"
    }
   ],
   "source": [
    "EOQproportions = EOQmarketcaps/sum(EOQmarketcaps)\n",
    "EOQproportions"
   ]
  },
  {
   "cell_type": "code",
   "execution_count": 24,
   "metadata": {},
   "outputs": [
    {
     "data": {
      "text/plain": [
       "array([0.97347513, 1.02718817, 0.93050817, 1.02509721])"
      ]
     },
     "execution_count": 24,
     "metadata": {},
     "output_type": "execute_result"
    }
   ],
   "source": [
    "priceRatios = currentPrices / EOQprices\n",
    "priceRatios"
   ]
  },
  {
   "cell_type": "code",
   "execution_count": 25,
   "metadata": {},
   "outputs": [
    {
     "data": {
      "text/plain": [
       "array([0.31063342, 0.23233147, 0.24043911, 0.2012523 ])"
      ]
     },
     "execution_count": 25,
     "metadata": {},
     "output_type": "execute_result"
    }
   ],
   "source": [
    "products = EOQproportions * priceRatios\n",
    "products"
   ]
  },
  {
   "cell_type": "code",
   "execution_count": 26,
   "metadata": {},
   "outputs": [
    {
     "data": {
      "text/plain": [
       "array([0.31547396, 0.23595185, 0.24418582, 0.20438837])"
      ]
     },
     "execution_count": 26,
     "metadata": {},
     "output_type": "execute_result"
    }
   ],
   "source": [
    "# Weights for each etf theoretical\n",
    "revisedProportions = products / sum(products)\n",
    "revisedProportions"
   ]
  },
  {
   "cell_type": "code",
   "execution_count": 27,
   "metadata": {},
   "outputs": [
    {
     "data": {
      "text/plain": [
       "1.0"
      ]
     },
     "execution_count": 27,
     "metadata": {},
     "output_type": "execute_result"
    }
   ],
   "source": [
    "sum(revisedProportions)"
   ]
  },
  {
   "cell_type": "code",
   "execution_count": 28,
   "metadata": {},
   "outputs": [
    {
     "data": {
      "text/plain": [
       "array([1869.18320855, 1398.01469089, 1446.80099968, 1211.00110088])"
      ]
     },
     "execution_count": 28,
     "metadata": {},
     "output_type": "execute_result"
    }
   ],
   "source": [
    "desiredValues = revisedProportions * amountInvested\n",
    "desiredValues"
   ]
  },
  {
   "cell_type": "code",
   "execution_count": 29,
   "metadata": {},
   "outputs": [
    {
     "data": {
      "text/plain": [
       "5925.0"
      ]
     },
     "execution_count": 29,
     "metadata": {},
     "output_type": "execute_result"
    }
   ],
   "source": [
    "sum(desiredValues)"
   ]
  },
  {
   "cell_type": "code",
   "execution_count": 30,
   "metadata": {},
   "outputs": [
    {
     "data": {
      "text/plain": [
       "array([11.73520347, 16.22956456, 27.91974141, 20.87932933])"
      ]
     },
     "execution_count": 30,
     "metadata": {},
     "output_type": "execute_result"
    }
   ],
   "source": [
    "# Shares of etfs to buy theoretically\n",
    "shares = desiredValues/currentPrices\n",
    "shares"
   ]
  },
  {
   "cell_type": "code",
   "execution_count": 56,
   "metadata": {},
   "outputs": [
    {
     "data": {
      "text/plain": [
       "array([11.54744021, 15.96989152, 27.47302554, 20.54526006])"
      ]
     },
     "execution_count": 56,
     "metadata": {},
     "output_type": "execute_result"
    }
   ],
   "source": [
    "schwab_shares = shares * .984\n",
    "schwab_shares"
   ]
  },
  {
   "cell_type": "code",
   "execution_count": 57,
   "metadata": {},
   "outputs": [
    {
     "data": {
      "text/plain": [
       "array([12., 16., 27., 21.])"
      ]
     },
     "execution_count": 57,
     "metadata": {},
     "output_type": "execute_result"
    }
   ],
   "source": [
    "# Shares of etfs to buy without fractional shares\n",
    "s = np.round(schwab_shares)\n",
    "s"
   ]
  },
  {
   "cell_type": "code",
   "execution_count": 58,
   "metadata": {},
   "outputs": [
    {
     "data": {
      "text/plain": [
       "array([1911.36, 1378.24, 1399.14, 1218.  ])"
      ]
     },
     "execution_count": 58,
     "metadata": {},
     "output_type": "execute_result"
    }
   ],
   "source": [
    "s*currentPrices"
   ]
  },
  {
   "cell_type": "code",
   "execution_count": 59,
   "metadata": {},
   "outputs": [
    {
     "data": {
      "text/plain": [
       "5906.740000000001"
      ]
     },
     "execution_count": 59,
     "metadata": {},
     "output_type": "execute_result"
    }
   ],
   "source": [
    "sum(s*currentPrices)"
   ]
  },
  {
   "cell_type": "code",
   "execution_count": 35,
   "metadata": {},
   "outputs": [],
   "source": [
    "y = (s*currentPrices)/sum(s*currentPrices)\n",
    "# array([0.32650404, 0.22523272, 0.25267487, 0.19558837])"
   ]
  },
  {
   "cell_type": "code",
   "execution_count": 36,
   "metadata": {},
   "outputs": [
    {
     "data": {
      "text/plain": [
       "array([32.07754894, 23.13042077, 24.35084987, 20.44118042])"
      ]
     },
     "execution_count": 36,
     "metadata": {},
     "output_type": "execute_result"
    }
   ],
   "source": [
    "# New weights of portfolio\n",
    "y * 100"
   ]
  },
  {
   "cell_type": "code",
   "execution_count": 37,
   "metadata": {},
   "outputs": [],
   "source": [
    "z = y * np.array([0.03,0.035,0.09,0.09])"
   ]
  },
  {
   "cell_type": "code",
   "execution_count": 38,
   "metadata": {},
   "outputs": [
    {
     "data": {
      "text/plain": [
       "0.01450793480303966"
      ]
     },
     "execution_count": 38,
     "metadata": {},
     "output_type": "execute_result"
    }
   ],
   "source": [
    "cost = sum(z)/4\n",
    "cost"
   ]
  },
  {
   "cell_type": "code",
   "execution_count": 39,
   "metadata": {},
   "outputs": [
    {
     "data": {
      "text/plain": [
       "0.8595951370800998"
      ]
     },
     "execution_count": 39,
     "metadata": {},
     "output_type": "execute_result"
    }
   ],
   "source": [
    "# How much it costs to construct the portfolio\n",
    "amountInvested * cost/100"
   ]
  },
  {
   "cell_type": "code",
   "execution_count": null,
   "metadata": {},
   "outputs": [],
   "source": []
  }
 ],
 "metadata": {
  "kernelspec": {
   "display_name": "Python 3",
   "language": "python",
   "name": "python3"
  },
  "language_info": {
   "codemirror_mode": {
    "name": "ipython",
    "version": 3
   },
   "file_extension": ".py",
   "mimetype": "text/x-python",
   "name": "python",
   "nbconvert_exporter": "python",
   "pygments_lexer": "ipython3",
   "version": "3.8.2-final"
  }
 },
 "nbformat": 4,
 "nbformat_minor": 4
}