{
 "cells": [
  {
   "cell_type": "code",
   "execution_count": 1,
   "metadata": {},
   "outputs": [],
   "source": [
    "import numpy as np\n",
    "from bs4 import BeautifulSoup\n",
    "from scraperFunctions import vtiScraper,vxusScraper, bndScraper, bndxScraper\n",
    "import pandas as pd\n",
    "from selenium import webdriver\n",
    "import datetime\n",
    "import time\n",
    "etfs = ['vti','vxus','bnd','bndx','vtip']"
   ]
  },
  {
   "cell_type": "code",
   "execution_count": null,
   "metadata": {},
   "outputs": [],
   "source": [
    "# Running scrapers (If you already have scraped historical data, go to updater)\n",
    "vti_MC_data = vtiScraper()\n",
    "vxus_MC_data = vxusScraper()\n",
    "bnd_MC_data = bndScraper()\n",
    "bndx_MC_data = bndxScraper()\n",
    "# Saving data\n",
    "vti_MC_data.to_csv('vti_MC_data.csv',index=False)\n",
    "vxus_MC_data.to_csv('vxus_MC_data.csv',index=False)\n",
    "bnd_MC_data.to_csv('bnd_MC_data.csv',index=False)\n",
    "bndx_MC_data.to_csv('bndx_MC_data.csv',index=False)"
   ]
  },
  {
   "cell_type": "code",
   "execution_count": 2,
   "metadata": {},
   "outputs": [],
   "source": [
    "# Updating data (If already have updated historical data, go to reader)"
   ]
  },
  {
   "cell_type": "code",
   "execution_count": 3,
   "metadata": {},
   "outputs": [],
   "source": [
    "# Reading saved data\n",
    "vti_MC_data = pd.read_csv('vti_MC_Data.csv')\n",
    "vxus_MC_data = pd.read_csv('vxus_MC_Data.csv')\n",
    "bnd_MC_data = pd.read_csv('bnd_MC_Data.csv')\n",
    "bndx_MC_data = pd.read_csv('bndx_MC_Data.csv')"
   ]
  },
  {
   "cell_type": "code",
   "execution_count": 4,
   "metadata": {},
   "outputs": [],
   "source": [
    "# Getting historical price data for etfs (This only takes a couple seconds to run.)\n",
    "etf_price_data = pd.DataFrame(columns=['Date','ETF','Open', 'High', 'Low', 'Close', 'AdjClose', 'Volume'])\n",
    "start_epoch = int(datetime.datetime(2000,1,1).timestamp())\n",
    "curr_epoch = int(time.time())\n",
    "for etf in etfs:\n",
    "    url = 'https://query1.finance.yahoo.com/v7/finance/download/'+etf+'?period1='+str(start_epoch)+'&period2='+str(curr_epoch)+'&interval=1d&events=history'\n",
    "    try:\n",
    "        df = pd.read_csv(url,parse_dates=[0])\n",
    "    except ex.HTTPError:\n",
    "        # Including some breaks to avoid being blocked\n",
    "        time.sleep(20)\n",
    "        continue\n",
    "    df['ETF'] = etf.upper()\n",
    "    df['AdjClose'] = df['Adj Close'].astype('float64')\n",
    "    df = df.drop(['Adj Close'],axis=1)\n",
    "    df = df.dropna(subset=['AdjClose', 'Volume'])\n",
    "    df['Open']=df['Open'].astype('float64')\n",
    "    df['High']=df['High'].astype('float64')\n",
    "    df['Low']=df['Low'].astype('float64')\n",
    "    df['Close']=df['Close'].astype('float64')\n",
    "    df['Volume']=df['Volume'].astype('int64')\n",
    "    etf_price_data = etf_price_data.append(df)\n",
    "    etf_price_data = etf_price_data.reset_index(drop=True)\n",
    "# Saving historical price data\n",
    "etf_price_data.to_csv('etf_price_data.csv',index=False)"
   ]
  },
  {
   "cell_type": "code",
   "execution_count": 6,
   "metadata": {},
   "outputs": [
    {
     "output_type": "stream",
     "name": "stdout",
     "text": "VTI 139.36\nVXUS 43.9\nBND 87.48\nBNDX 56.57\nVTIP 49.54\n"
    }
   ],
   "source": [
    "# Getting current prices\n",
    "options = webdriver.ChromeOptions()\n",
    "options.add_argument('--headless')\n",
    "driver = webdriver.Chrome('/Users/avinaashkoganti/chromedriver',options=options)\n",
    "prices = []\n",
    "for etf in etfs:\n",
    "    driver.get('https://finance.yahoo.com/quote/'+etf)\n",
    "    html = driver.page_source\n",
    "    soup = BeautifulSoup(html,features=\"html.parser\")\n",
    "    x = soup.find('span', {'class':'Trsdu(0.3s) Fw(b) Fz(36px) Mb(-4px) D(ib)'})\n",
    "    price = float(x.text)\n",
    "    prices.append(price)\n",
    "    print(etf.upper(),price)\n",
    "driver.close()\n",
    "prices2 = prices[0:4]"
   ]
  },
  {
   "cell_type": "code",
   "execution_count": null,
   "metadata": {},
   "outputs": [],
   "source": [
    "# format [U.S. Stocks, International Stocks, U.S. Bonds, International Bonds] (in trillions for market cap)\n",
    "# As of December 30,2019\n",
    "EOQmarketcaps = np.array([31.780092,22.5263,25.734560,19.55274])\n",
    "EOQprices = np.array([163.62,83.86,55.69,56.58])\n",
    "currentPrices = np.asarray(prices2)\n",
    "amountInvested = 5925\n",
    "\n",
    "sum(EOQmarketcaps)"
   ]
  },
  {
   "cell_type": "code",
   "execution_count": null,
   "metadata": {},
   "outputs": [],
   "source": [
    "EOQproportions = EOQmarketcaps/sum(EOQmarketcaps)\n",
    "EOQproportions"
   ]
  },
  {
   "cell_type": "code",
   "execution_count": null,
   "metadata": {},
   "outputs": [],
   "source": [
    "priceRatios = currentPrices / EOQprices\n",
    "priceRatios"
   ]
  },
  {
   "cell_type": "code",
   "execution_count": null,
   "metadata": {},
   "outputs": [],
   "source": [
    "products = EOQproportions * priceRatios\n",
    "products"
   ]
  },
  {
   "cell_type": "code",
   "execution_count": null,
   "metadata": {},
   "outputs": [],
   "source": [
    "# Weights for each etf theoretical\n",
    "revisedProportions = products / sum(products)\n",
    "revisedProportions"
   ]
  },
  {
   "cell_type": "code",
   "execution_count": null,
   "metadata": {},
   "outputs": [],
   "source": [
    "sum(revisedProportions)"
   ]
  },
  {
   "cell_type": "code",
   "execution_count": null,
   "metadata": {},
   "outputs": [],
   "source": [
    "desiredValues = revisedProportions * amountInvested\n",
    "desiredValues"
   ]
  },
  {
   "cell_type": "code",
   "execution_count": null,
   "metadata": {},
   "outputs": [],
   "source": [
    "sum(desiredValues)"
   ]
  },
  {
   "cell_type": "code",
   "execution_count": null,
   "metadata": {},
   "outputs": [],
   "source": [
    "# Shares of etfs to buy theoretically\n",
    "shares = desiredValues/currentPrices\n",
    "shares"
   ]
  },
  {
   "cell_type": "code",
   "execution_count": null,
   "metadata": {},
   "outputs": [],
   "source": [
    "schwab_shares = shares * .984\n",
    "schwab_shares"
   ]
  },
  {
   "cell_type": "code",
   "execution_count": null,
   "metadata": {},
   "outputs": [],
   "source": [
    "# Shares of etfs to buy without fractional shares\n",
    "s = np.round(schwab_shares)\n",
    "s"
   ]
  },
  {
   "cell_type": "code",
   "execution_count": null,
   "metadata": {},
   "outputs": [],
   "source": [
    "s*currentPrices"
   ]
  },
  {
   "cell_type": "code",
   "execution_count": null,
   "metadata": {},
   "outputs": [],
   "source": [
    "sum(s*currentPrices)"
   ]
  },
  {
   "cell_type": "code",
   "execution_count": null,
   "metadata": {},
   "outputs": [],
   "source": [
    "y = (s*currentPrices)/sum(s*currentPrices)\n",
    "# array([0.32650404, 0.22523272, 0.25267487, 0.19558837])"
   ]
  },
  {
   "cell_type": "code",
   "execution_count": null,
   "metadata": {},
   "outputs": [],
   "source": [
    "# New weights of portfolio\n",
    "y * 100"
   ]
  },
  {
   "cell_type": "code",
   "execution_count": null,
   "metadata": {},
   "outputs": [],
   "source": [
    "z = y * np.array([0.03,0.035,0.09,0.09])"
   ]
  },
  {
   "cell_type": "code",
   "execution_count": null,
   "metadata": {},
   "outputs": [],
   "source": [
    "cost = sum(z)/4\n",
    "cost"
   ]
  },
  {
   "cell_type": "code",
   "execution_count": null,
   "metadata": {},
   "outputs": [],
   "source": [
    "# How much it costs to construct the portfolio\n",
    "amountInvested * cost/100"
   ]
  },
  {
   "cell_type": "code",
   "execution_count": null,
   "metadata": {},
   "outputs": [],
   "source": []
  }
 ],
 "metadata": {
  "kernelspec": {
   "display_name": "Python 3",
   "language": "python",
   "name": "python3"
  },
  "language_info": {
   "codemirror_mode": {
    "name": "ipython",
    "version": 3
   },
   "file_extension": ".py",
   "mimetype": "text/x-python",
   "name": "python",
   "nbconvert_exporter": "python",
   "pygments_lexer": "ipython3",
   "version": "3.8.2-final"
  }
 },
 "nbformat": 4,
 "nbformat_minor": 4
}