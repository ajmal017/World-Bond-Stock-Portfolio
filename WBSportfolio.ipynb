{
 "cells": [
  {
   "cell_type": "code",
   "execution_count": 1,
   "metadata": {},
   "outputs": [],
   "source": [
    "import numpy as np\n",
    "import pandas as pd\n",
    "from scraperFunctions import vtiScraper,vxusScraper, bndScraper, bndxScraper\n",
    "from updaterFunctions import vtiUpdater, vxusUpdater, bndUpdater, bndxUpdater\n",
    "from helperFunctions import etfPriceData, etfCurrPrices"
   ]
  },
  {
   "cell_type": "code",
   "execution_count": null,
   "metadata": {},
   "outputs": [],
   "source": [
    "# Running scrapers and saving data(If you already have scraped historical data, go to updater)\n",
    "vtiScraper()\n",
    "print('VTI done')\n",
    "vxusScraper()\n",
    "print('VXUS done')\n",
    "bndScraper()\n",
    "print('BND done')\n",
    "bndxScraper()\n",
    "print('BNDX done')"
   ]
  },
  {
   "cell_type": "code",
   "execution_count": 2,
   "metadata": {},
   "outputs": [
    {
     "output_type": "stream",
     "name": "stdout",
     "text": "In development\nIn development\nIn development\nIn development\n"
    }
   ],
   "source": [
    "# Updating data (If already have updated historical data, go to reader)\n",
    "vtiUpdater()\n",
    "vxusUpdater()\n",
    "bndUpdater()\n",
    "bndxUpdater()"
   ]
  },
  {
   "cell_type": "code",
   "execution_count": 3,
   "metadata": {},
   "outputs": [],
   "source": [
    "# Reading saved data (Market cap is in billions)\n",
    "vti_MC_data = pd.read_csv('vti_MC_Data.csv')\n",
    "vxus_MC_data = pd.read_csv('vxus_MC_Data.csv')\n",
    "bnd_MC_data = pd.read_csv('bnd_MC_Data.csv')\n",
    "bndx_MC_data = pd.read_csv('bndx_MC_Data.csv')"
   ]
  },
  {
   "cell_type": "code",
   "execution_count": 4,
   "metadata": {},
   "outputs": [],
   "source": [
    "# Getting historical price data for etfs (This only takes a couple seconds to run.)\n",
    "etfPriceData()\n",
    "etf_price_data = pd.read_csv('etf_price_data.csv')\n",
    "etf_price_data.Date = pd.to_datetime(etf_price_data.Date)"
   ]
  },
  {
   "cell_type": "code",
   "execution_count": 5,
   "metadata": {},
   "outputs": [],
   "source": [
    "df = vti_MC_data.rename(columns={\"Market Cap\":'VTI'}).merge(vxus_MC_data.rename(columns={\"Market Cap\":'VXUS'}),on='date',how='outer').merge(bnd_MC_data.rename(columns={\"Market Cap\":'BND'}),on='date',how='outer').merge(bndx_MC_data.rename(columns={\"Market Cap\":'BNDX'}),on='date',how='outer').sort_values(by=['date'],ascending=False).reset_index(drop=True)\n",
    "df['date'] = pd.to_datetime(df['date'])"
   ]
  },
  {
   "cell_type": "code",
   "execution_count": 6,
   "metadata": {},
   "outputs": [],
   "source": [
    "# Getting end of quarter prices and market caps\n",
    "etfs = ['VTI','VXUS','BND','BNDX']\n",
    "etfEOQprices = []\n",
    "for etf in etfs:\n",
    "    maxDate = etf_price_data[(etf_price_data.Date.dt.year == 2020) & (etf_price_data.Date.dt.month == 3)].Date.max()\n",
    "    price = etf_price_data[(etf_price_data.Date == maxDate) & (etf_price_data.ETF == etf)].AdjClose.reset_index(drop=True)[0]\n",
    "    etfEOQprices.append(price)\n",
    "etfEOQmarketcaps = []\n",
    "for etf in etfs:\n",
    "    mc = df[(df.date.dt.year == 2020) & (df.date.dt.month == 3)][['date',etf]].dropna()[etf].reset_index(drop=True)[0]\n",
    "    etfEOQmarketcaps.append(mc)\n",
    "# Need to subtract US bonds from World bond market cap\n",
    "etfEOQmarketcaps[3] = etfEOQmarketcaps[3] - etfEOQmarketcaps[2]\n",
    "etfRecentPrices = []\n",
    "for etf in etfs:\n",
    "    price = etf_price_data[(etf_price_data.Date == etf_price_data.Date.max()) & (etf_price_data.ETF == etf)].AdjClose.reset_index(drop=True)[0]\n",
    "    etfRecentPrices.append(price)"
   ]
  },
  {
   "cell_type": "code",
   "execution_count": 7,
   "metadata": {},
   "outputs": [],
   "source": [
    "# Enter in total amount you would like to invest under amountInvested \n",
    "amountInvested = 11496"
   ]
  },
  {
   "cell_type": "code",
   "execution_count": 8,
   "metadata": {},
   "outputs": [
    {
     "output_type": "stream",
     "name": "stdout",
     "text": "VTI, VXUS, BND, BNDX\n[26. 62. 33. 40.]\n"
    }
   ],
   "source": [
    "# GENERATING MARKET PORTFOLIO\n",
    "# format [U.S. Stocks, International Stocks, U.S. Bonds, International Bonds] (in billions for market cap)\n",
    "EOQmarketcaps = np.array(etfEOQmarketcaps)\n",
    "EOQprices = np.array(etfEOQprices)\n",
    "recentPrices = np.asarray(etfRecentPrices)\n",
    "# Market proportions for each etf on end of quarter\n",
    "EOQproportions = EOQmarketcaps/sum(EOQmarketcaps)\n",
    "# Ratio of recent prices and end of quarter prices\n",
    "priceRatios = recentPrices / EOQprices\n",
    "# Multiply ratios to market proportions\n",
    "products = EOQproportions * priceRatios\n",
    "# Market weights if fractional shares existed\n",
    "revisedProportions = products / sum(products)\n",
    "# Amount of money invested in each etf if fractional shares existed\n",
    "desiredValues = revisedProportions * amountInvested\n",
    "# Number of shares of etfs to buy if fractional shares existed\n",
    "currentPrices = np.array(etfCurrPrices(['VTI', 'VXUS', 'BND', 'BNDX']))\n",
    "shares = desiredValues/currentPrices\n",
    "# Optimize to get as close to 0 since fractional shares with Schwab doesn't exist\n",
    "def asdf(a):\n",
    "    return amountInvested - sum(np.round(shares * a)*currentPrices)\n",
    "a = .90\n",
    "while asdf(a) > 0:\n",
    "    if a <.99999:\n",
    "        a+=.00001\n",
    "    else:\n",
    "        break\n",
    "    if asdf(a) < 0:\n",
    "        a-=.00001\n",
    "        break\n",
    "# Actual shares of each etf to buy\n",
    "actualShares = np.round(shares * a)\n",
    "print('VTI, VXUS, BND, BNDX')\n",
    "print(actualShares)"
   ]
  },
  {
   "cell_type": "code",
   "execution_count": 9,
   "metadata": {},
   "outputs": [
    {
     "output_type": "stream",
     "name": "stdout",
     "text": "Theoretical proportions\n[0.31199662 0.23579429 0.25379039 0.1984187 ]\nActual proportions\n[0.31521732 0.23678533 0.25114313 0.19685423]\n"
    }
   ],
   "source": [
    "actualProportions = (actualShares * currentPrices)/sum(actualShares * currentPrices)\n",
    "print('Theoretical proportions')\n",
    "print(revisedProportions)\n",
    "print('Actual proportions')\n",
    "print(actualProportions)"
   ]
  },
  {
   "cell_type": "code",
   "execution_count": 10,
   "metadata": {},
   "outputs": [
    {
     "output_type": "stream",
     "name": "stdout",
     "text": "1.2\n"
    }
   ],
   "source": [
    "# Cash left over. You can invest this cash into VTIP (Vanguard's US TIPS ETF) or something else if you'd like.\n",
    "cash = amountInvested - sum((actualShares * currentPrices))\n",
    "print(np.round(cash,2))"
   ]
  },
  {
   "cell_type": "code",
   "execution_count": 11,
   "metadata": {},
   "outputs": [
    {
     "output_type": "stream",
     "name": "stdout",
     "text": "6.085082\n"
    }
   ],
   "source": [
    "# How much it costs to maintain portfolio per year\n",
    "costs = [.0003,.0008,.00035,.0008]\n",
    "print(sum((actualShares * currentPrices)*costs))"
   ]
  },
  {
   "cell_type": "code",
   "execution_count": 12,
   "metadata": {},
   "outputs": [
    {
     "output_type": "stream",
     "name": "stdout",
     "text": "Trades: VTI, VXUS, BND, BNDX\n[14. 34. 17. 19.]\n\nCash left over\n26.06800099999964\n"
    }
   ],
   "source": [
    "# REBALANCE (run this cell if you already have money invested in the market portfolio)\n",
    "# Enter in number of shares here in current port in the format of VTI, VXUS, BND, BNDX\n",
    "currentPort = np.array([12.0588,27.0695,16.0667,21.0345])\n",
    "trades = actualShares - currentPort\n",
    "# Amount left for trades\n",
    "amountInvestable = amountInvested - sum(currentPort * currentPrices)\n",
    "# Need to make sure trades don't make balance go over amount of money available\n",
    "def asdf(a):\n",
    "    return amountInvestable - sum(np.round(trades * a)*currentPrices)\n",
    "a = .90\n",
    "while asdf(a) > 0:\n",
    "    if a <.99999:\n",
    "        a+=.00001\n",
    "    else:\n",
    "        break\n",
    "    if asdf(a) < 0:\n",
    "        a-=.00001\n",
    "        break\n",
    "actualTrades = np.round(trades * a)\n",
    "print('Trades: VTI, VXUS, BND, BNDX')\n",
    "print(actualTrades)\n",
    "print()\n",
    "print('Cash left over')\n",
    "print(asdf(a))"
   ]
  },
  {
   "cell_type": "code",
   "execution_count": 13,
   "metadata": {},
   "outputs": [
    {
     "output_type": "stream",
     "name": "stdout",
     "text": "Theoretical proportions\n[0.31199662 0.23579429 0.25379039 0.1984187 ]\n\nActual proportions after rebalance\n[0.31661516 0.23373731 0.25219634 0.19745118]\n"
    }
   ],
   "source": [
    "portAfterTrades = currentPort + actualTrades\n",
    "print('Theoretical proportions')\n",
    "print(revisedProportions)\n",
    "print()\n",
    "print('Actual proportions after rebalance')\n",
    "print((portAfterTrades * currentPrices)/sum(portAfterTrades * currentPrices))"
   ]
  },
  {
   "cell_type": "code",
   "execution_count": null,
   "metadata": {},
   "outputs": [],
   "source": []
  }
 ],
 "metadata": {
  "kernelspec": {
   "display_name": "Python 3",
   "language": "python",
   "name": "python3"
  },
  "language_info": {
   "codemirror_mode": {
    "name": "ipython",
    "version": 3
   },
   "file_extension": ".py",
   "mimetype": "text/x-python",
   "name": "python",
   "nbconvert_exporter": "python",
   "pygments_lexer": "ipython3",
   "version": "3.8.2-final"
  }
 },
 "nbformat": 4,
 "nbformat_minor": 4
}