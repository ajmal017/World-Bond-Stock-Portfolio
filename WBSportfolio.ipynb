{
 "cells": [
  {
   "cell_type": "code",
   "execution_count": 1,
   "metadata": {},
   "outputs": [],
   "source": [
    "import numpy as np\n",
    "import pandas as pd\n",
    "from scraperFunctions import vtiScraper,vxusScraper, bndScraper, bndxScraper\n",
    "from updaterFunctions import vtiUpdater, vxusUpdater, bndUpdater, bndxUpdater\n",
    "from helperFunctions import etfPriceData"
   ]
  },
  {
   "cell_type": "code",
   "execution_count": null,
   "metadata": {},
   "outputs": [],
   "source": [
    "# Running scrapers and saving data(If you already have scraped historical data, go to updater)\n",
    "vtiScraper()\n",
    "print('VTI done')\n",
    "vxusScraper()\n",
    "print('VXUS done')\n",
    "bndScraper()\n",
    "print('BND done')\n",
    "bndxScraper()\n",
    "print('BNDX done')"
   ]
  },
  {
   "cell_type": "code",
   "execution_count": 2,
   "metadata": {},
   "outputs": [
    {
     "output_type": "stream",
     "name": "stdout",
     "text": "In development\nIn development\nIn development\nIn development\n"
    }
   ],
   "source": [
    "# Updating data (If already have updated historical data, go to reader)\n",
    "vtiUpdater()\n",
    "vxusUpdater()\n",
    "bndUpdater()\n",
    "bndxUpdater()"
   ]
  },
  {
   "cell_type": "code",
   "execution_count": 3,
   "metadata": {},
   "outputs": [],
   "source": [
    "# Reading saved data (Market cap is in billions)\n",
    "vti_MC_data = pd.read_csv('vti_MC_Data.csv')\n",
    "vxus_MC_data = pd.read_csv('vxus_MC_Data.csv')\n",
    "bnd_MC_data = pd.read_csv('bnd_MC_Data.csv')\n",
    "bndx_MC_data = pd.read_csv('bndx_MC_Data.csv')"
   ]
  },
  {
   "cell_type": "code",
   "execution_count": 4,
   "metadata": {},
   "outputs": [],
   "source": [
    "# Getting historical price data for etfs (This only takes a couple seconds to run.)\n",
    "etfPriceData()\n",
    "etf_price_data = pd.read_csv('etf_price_data.csv')\n",
    "etf_price_data.Date = pd.to_datetime(etf_price_data.Date)"
   ]
  },
  {
   "cell_type": "code",
   "execution_count": 5,
   "metadata": {},
   "outputs": [],
   "source": [
    "df = vti_MC_data.rename(columns={\"Market Cap\":'VTI'}).merge(vxus_MC_data.rename(columns={\"Market Cap\":'VXUS'}),on='date',how='outer').merge(bnd_MC_data.rename(columns={\"Market Cap\":'BND'}),on='date',how='outer').merge(bndx_MC_data.rename(columns={\"Market Cap\":'BNDX'}),on='date',how='outer').sort_values(by=['date'],ascending=False).reset_index(drop=True)\n",
    "df['date'] = pd.to_datetime(df['date'])"
   ]
  },
  {
   "cell_type": "code",
   "execution_count": 6,
   "metadata": {},
   "outputs": [],
   "source": [
    "# Getting end of quarter prices and market caps\n",
    "etfs = ['VTI','VXUS','BND','BNDX']\n",
    "etfEOQprices = []\n",
    "for etf in etfs:\n",
    "    maxDate = etf_price_data[(etf_price_data.Date.dt.year == 2020) & (etf_price_data.Date.dt.month == 3)].Date.max()\n",
    "    price = etf_price_data[(etf_price_data.Date == maxDate) & (etf_price_data.ETF == etf)].AdjClose.reset_index(drop=True)[0]\n",
    "    etfEOQprices.append(price)\n",
    "etfEOQmarketcaps = []\n",
    "for etf in etfs:\n",
    "    mc = df[(df.date.dt.year == 2020) & (df.date.dt.month == 3)][['date',etf]].dropna()[etf].reset_index(drop=True)[0]\n",
    "    etfEOQmarketcaps.append(mc)\n",
    "etfRecentPrices = []\n",
    "for etf in etfs:\n",
    "    price = etf_price_data[(etf_price_data.Date == etf_price_data.Date.max()) & (etf_price_data.ETF == etf)].AdjClose.reset_index(drop=True)[0]\n",
    "    etfRecentPrices.append(price)"
   ]
  },
  {
   "cell_type": "code",
   "execution_count": 101,
   "metadata": {},
   "outputs": [],
   "source": [
    "# format [U.S. Stocks, International Stocks, U.S. Bonds, International Bonds] (in billions for market cap)\n",
    "EOQmarketcaps = np.array(etfEOQmarketcaps)\n",
    "EOQprices = np.array(etfEOQprices)\n",
    "recentPrices = np.asarray(etfRecentPrices)\n",
    "amountInvested = 11496"
   ]
  },
  {
   "cell_type": "code",
   "execution_count": 121,
   "metadata": {},
   "outputs": [
    {
     "output_type": "stream",
     "name": "stdout",
     "text": "VTI, VXUS, BND, BNDX\n[20. 49. 27. 72.]\n"
    }
   ],
   "source": [
    "# Market proportions for each etf on end of quarter\n",
    "EOQproportions = EOQmarketcaps/sum(EOQmarketcaps)\n",
    "# Ratio of recent prices and end of quarter prices\n",
    "priceRatios = recentPrices / EOQprices\n",
    "# Multiply ratios to market proportions\n",
    "products = EOQproportions * priceRatios\n",
    "# Market weights if fractional shares existed\n",
    "revisedProportions = products / sum(products)\n",
    "# Amount of money invested in each etf if fractional shares existed\n",
    "desiredValues = revisedProportions * amountInvested\n",
    "# Number of shares of etfs to buy if fractional shares existed\n",
    "shares = desiredValues/recentPrices\n",
    "# Optimize to get as close to 0 since fractional shares with Schwab doesn't exist\n",
    "def asdf(a):\n",
    "    return amountInvested - sum(np.round(shares * a)*recentPrices)\n",
    "a = .90\n",
    "while asdf(a) > 0:\n",
    "    if a <.99999:\n",
    "        a+=.00001\n",
    "    else:\n",
    "        break\n",
    "    if asdf(a) < 0:\n",
    "        a-=.00001\n",
    "        break\n",
    "# Actual shares of each etf to buy\n",
    "actualShares = np.round(shares * a)\n",
    "print('VTI, VXUS, BND, BNDX')\n",
    "print(actualShares)"
   ]
  },
  {
   "cell_type": "code",
   "execution_count": 120,
   "metadata": {},
   "outputs": [
    {
     "output_type": "stream",
     "name": "stdout",
     "text": "Theortical proportions\n[0.24986785 0.1888399  0.20325239 0.35803985]\nActual proportions\n[0.24506519 0.18913596 0.20767588 0.35812297]\n"
    }
   ],
   "source": [
    "actualProportions = (actualShares * recentPrices)/sum(actualShares * recentPrices)\n",
    "print('Theortical proportions')\n",
    "print(revisedProportions)\n",
    "print('Actual proportions')\n",
    "print(actualProportions)"
   ]
  },
  {
   "cell_type": "code",
   "execution_count": 127,
   "metadata": {},
   "outputs": [
    {
     "output_type": "stream",
     "name": "stdout",
     "text": "122.7\n"
    }
   ],
   "source": [
    "# Cash left over. You can invest this cash into VTIP (Vanguard's US TIPS ETF) or something else if you'd like.\n",
    "cash = amountInvested - sum((actualShares * recentPrices))\n",
    "print(np.round(cash,2))"
   ]
  },
  {
   "cell_type": "code",
   "execution_count": 131,
   "metadata": {},
   "outputs": [
    {
     "output_type": "stream",
     "name": "stdout",
     "text": "6.64215811275\n"
    }
   ],
   "source": [
    "# How much it costs to maintain portfolio per year\n",
    "costs = [.0003,.0008,.00035,.0008]\n",
    "print(sum((actualShares * recentPrices)*costs))"
   ]
  },
  {
   "cell_type": "code",
   "execution_count": null,
   "metadata": {},
   "outputs": [],
   "source": []
  }
 ],
 "metadata": {
  "kernelspec": {
   "display_name": "Python 3",
   "language": "python",
   "name": "python3"
  },
  "language_info": {
   "codemirror_mode": {
    "name": "ipython",
    "version": 3
   },
   "file_extension": ".py",
   "mimetype": "text/x-python",
   "name": "python",
   "nbconvert_exporter": "python",
   "pygments_lexer": "ipython3",
   "version": "3.8.2-final"
  }
 },
 "nbformat": 4,
 "nbformat_minor": 4
}