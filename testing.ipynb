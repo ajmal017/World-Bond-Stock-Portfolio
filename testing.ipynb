{
 "cells": [
  {
   "cell_type": "code",
   "execution_count": 1,
   "metadata": {},
   "outputs": [],
   "source": [
    "import requests\n",
    "from bs4 import BeautifulSoup\n",
    "import re\n",
    "import io\n",
    "import PyPDF2\n",
    "import pandas as pd\n",
    "import datetime\n",
    "import time"
   ]
  },
  {
   "cell_type": "code",
   "execution_count": null,
   "metadata": {},
   "outputs": [],
   "source": [
    "cur_year = datetime.datetime.now().year\n",
    "cur_month = datetime.datetime.now().month\n",
    "error_url = 'https://www.ftserussell.com/products/indices/home/errorview?aspxerrorpath=/Analytics/FactSheets/Home/DownloadSingleIssueByDate'\n",
    "dates = []\n",
    "report_links = []\n",
    "marketCaps = []\n",
    "for y in range(2013,cur_year+1):\n",
    "    year = str(y)\n",
    "    for m in range(1,13):\n",
    "        if y==cur_year and m>cur_month:\n",
    "            break\n",
    "        if m < 10:\n",
    "            month = '0' + str(m)\n",
    "        else:\n",
    "            month = str(m)\n",
    "        for d in range(28,32):\n",
    "            day = str(d)\n",
    "            date = year + month + day\n",
    "            url = \"https://research.ftserussell.com/Analytics/FactSheets/Home/DownloadSingleIssueByDate?IssueName=GXUSS&IssueDate=\"+ date + \"&IsManual=false.pdf\"\n",
    "            response = requests.get(url)\n",
    "            if response.url != error_url:\n",
    "                dates.append(date)\n",
    "                pdf = requests.get(url)\n",
    "                open_pdf = io.BytesIO(pdf.content)\n",
    "                read_pdf = PyPDF2.PdfFileReader(open_pdf)\n",
    "                pdf_page2 = read_pdf.getPage(1)\n",
    "                page_text = pdf_page2.extractText()\n",
    "                cleaned_page_text = page_text.replace('\\n',' ').replace('  ',' ').replace('  ',' ')\n",
    "                mc = re.findall('Totals \\d+ \\d+,\\d+,\\d+', cleaned_page_text, re.IGNORECASE)\n",
    "                if mc == []:\n",
    "                    mc = 'n/a'\n",
    "                    marketCaps.append(mc)\n",
    "                    continue\n",
    "                else:\n",
    "                    mc = mc[0].replace(',','').replace('\\n','').replace('Totals','')\n",
    "                    mc = [int(s) for s in mc.split() if s.isdigit()][1] / 1000\n",
    "                    marketCaps.append(mc)\n",
    "                break\n",
    "vxusDF = pd.DataFrame({'date':pd.to_datetime(dates, infer_datetime_format=True),'Market Cap':marketCaps})\n",
    "vxusDF.to_csv('Data/vxus_MC_data.csv',index=False)"
   ]
  },
  {
   "cell_type": "code",
   "execution_count": null,
   "metadata": {},
   "outputs": [],
   "source": []
  }
 ],
 "metadata": {
  "language_info": {
   "codemirror_mode": {
    "name": "ipython",
    "version": 3
   },
   "file_extension": ".py",
   "mimetype": "text/x-python",
   "name": "python",
   "nbconvert_exporter": "python",
   "pygments_lexer": "ipython3",
   "version": "3.8.2-final"
  },
  "orig_nbformat": 2,
  "kernelspec": {
   "name": "python3",
   "display_name": "Python 3"
  }
 },
 "nbformat": 4,
 "nbformat_minor": 2
}